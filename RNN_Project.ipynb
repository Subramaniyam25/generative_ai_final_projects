{
 "cells": [
  {
   "cell_type": "markdown",
   "id": "1db311b5-bd2e-480e-82da-1b34bab802e5",
   "metadata": {},
   "source": [
    "SPEECH TO GOOGLE SEARCH USING RECURRENT NEURAL NETWORK (RNN) ALGORITHM"
   ]
  },
  {
   "cell_type": "markdown",
   "id": "c0a19dc9-544f-4686-bb2b-f8ed86197ced",
   "metadata": {},
   "source": [
    "Step -1- Import all necessary libraries"
   ]
  },
  {
   "cell_type": "code",
   "execution_count": 2,
   "id": "737cafa6-45ea-42cd-8cff-10d77e2dc5e3",
   "metadata": {},
   "outputs": [],
   "source": [
    "import speech_recognition\n",
    "import pyttsx3\n",
    "import webbrowser"
   ]
  },
  {
   "cell_type": "markdown",
   "id": "f293ad46-dada-427c-bde1-e17ff2ce263f",
   "metadata": {},
   "source": [
    "Step -2- Getting input (voice) from the user and pass the webbrowser"
   ]
  },
  {
   "cell_type": "code",
   "execution_count": 7,
   "id": "937a9321-5a3a-413d-92e7-f464babf49d3",
   "metadata": {},
   "outputs": [
    {
     "name": "stdout",
     "output_type": "stream",
     "text": [
      "I am hearing : learning generative AI\n"
     ]
    }
   ],
   "source": [
    "x = speech_recognition.Recognizer()\n",
    "\n",
    "while True:\n",
    "    try:\n",
    "        with speech_recognition.Microphone() as mic:\n",
    "            x.adjust_for_ambient_noise(mic)\n",
    "            audio = x.listen(mic)\n",
    "            text = x.recognize_google(audio)\n",
    "            print(f\"I am hearing : {text}\")\n",
    "            webbrowser.open(\"https://www.google.ca/search?q=\"+text)\n",
    "    finally:\n",
    "            break"
   ]
  },
  {
   "cell_type": "code",
   "execution_count": null,
   "id": "25ac06df-665b-4cef-823f-452cbca385b9",
   "metadata": {},
   "outputs": [],
   "source": []
  }
 ],
 "metadata": {
  "kernelspec": {
   "display_name": "Python 3 (ipykernel)",
   "language": "python",
   "name": "python3"
  },
  "language_info": {
   "codemirror_mode": {
    "name": "ipython",
    "version": 3
   },
   "file_extension": ".py",
   "mimetype": "text/x-python",
   "name": "python",
   "nbconvert_exporter": "python",
   "pygments_lexer": "ipython3",
   "version": "3.12.0"
  }
 },
 "nbformat": 4,
 "nbformat_minor": 5
}
